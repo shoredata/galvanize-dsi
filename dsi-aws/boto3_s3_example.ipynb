{
 "cells": [
  {
   "cell_type": "markdown",
   "metadata": {},
   "source": [
    "# Prerequisites\n",
    "\n",
    "## Install AWS Libraries\n",
    "\n",
    "`pip install awscli boto3`\n",
    "\n",
    "## Configure AWS\n",
    "\n",
    "At the command line, run the following:\n"
   ]
  },
  {
   "cell_type": "code",
   "execution_count": 1,
   "metadata": {},
   "outputs": [],
   "source": [
    "import boto3"
   ]
  },
  {
   "cell_type": "code",
   "execution_count": 2,
   "metadata": {},
   "outputs": [],
   "source": [
    "s3 = boto3.client(\"s3\")"
   ]
  },
  {
   "cell_type": "markdown",
   "metadata": {},
   "source": [
    "## Create an S3 bucket\n",
    "\n",
    "Choose a name that is *universally unique*. This operation will fail if anyone else has a bucket with the same name."
   ]
  },
  {
   "cell_type": "code",
   "execution_count": 3,
   "metadata": {},
   "outputs": [
    {
     "name": "stdout",
     "output_type": "stream",
     "text": [
      "An error occurred (BucketAlreadyExists) when calling the CreateBucket operation: The requested bucket name is not available. The bucket namespace is shared by all users of the system. Please select a different name and try again.\n"
     ]
    }
   ],
   "source": [
    "bucket_name = \"example-bucket-shrubhound-space-mango-giraffe\"\n",
    "try:\n",
    "    s3.create_bucket(\n",
    "    Bucket=bucket_name,\n",
    "    CreateBucketConfiguration={'LocationConstraint': 'us-west-2'},\n",
    ")\n",
    "except Exception as e:\n",
    "    print(e)  # Note: BucketAlreadyOwnedByYou means you already created the bucket."
   ]
  },
  {
   "cell_type": "code",
   "execution_count": 4,
   "metadata": {},
   "outputs": [
    {
     "name": "stdout",
     "output_type": "stream",
     "text": [
      "An error occurred (BucketAlreadyOwnedByYou) when calling the CreateBucket operation: Your previous request to create the named bucket succeeded and you already own it.\n"
     ]
    }
   ],
   "source": [
    "#bucket_name = \"example-bucket-shrubhound-space-mango-giraffe\"\n",
    "bucket_name = \"garden.shelbysoft.com\"\n",
    "try:\n",
    "    s3.create_bucket(\n",
    "    Bucket=bucket_name,\n",
    "    CreateBucketConfiguration={'LocationConstraint': 'us-west-2'},\n",
    ")\n",
    "except Exception as e:\n",
    "    print(e)  # Note: BucketAlreadyOwnedByYou means you already created the bucket."
   ]
  },
  {
   "cell_type": "code",
   "execution_count": 5,
   "metadata": {},
   "outputs": [
    {
     "data": {
      "text/plain": [
       "{'Buckets': [{'CreationDate': datetime.datetime(2018, 3, 5, 20, 11, 27, tzinfo=tzutc()),\n",
       "   'Name': 'garden.shelbysoft.com'},\n",
       "  {'CreationDate': datetime.datetime(2017, 12, 18, 20, 41, 8, tzinfo=tzutc()),\n",
       "   'Name': 'logs.shelbysoft.com'},\n",
       "  {'CreationDate': datetime.datetime(2017, 12, 18, 20, 41, 9, tzinfo=tzutc()),\n",
       "   'Name': 'shelbysoft.com'},\n",
       "  {'CreationDate': datetime.datetime(2017, 12, 18, 20, 27, 50, tzinfo=tzutc()),\n",
       "   'Name': 'www.shelbysoft.com'}],\n",
       " 'Owner': {'DisplayName': 'shoredata',\n",
       "  'ID': 'd46b9758b75942d4da6d8ddd01a44653af5a5ef9f4c7fc724bf6906d8c9522d6'},\n",
       " 'ResponseMetadata': {'HTTPHeaders': {'content-type': 'application/xml',\n",
       "   'date': 'Mon, 05 Mar 2018 21:02:50 GMT',\n",
       "   'server': 'AmazonS3',\n",
       "   'transfer-encoding': 'chunked',\n",
       "   'x-amz-id-2': 'tGUpab4oV5PwFRhW0Pdw4rmfucY9DjbTkHpu/XOqmcmvx0A7mc+UYeJnYUT0aoD85qIokVeKh5g=',\n",
       "   'x-amz-request-id': 'CE8A9FE9DF252822'},\n",
       "  'HTTPStatusCode': 200,\n",
       "  'HostId': 'tGUpab4oV5PwFRhW0Pdw4rmfucY9DjbTkHpu/XOqmcmvx0A7mc+UYeJnYUT0aoD85qIokVeKh5g=',\n",
       "  'RequestId': 'CE8A9FE9DF252822',\n",
       "  'RetryAttempts': 0}}"
      ]
     },
     "execution_count": 5,
     "metadata": {},
     "output_type": "execute_result"
    }
   ],
   "source": [
    "response = s3.list_buckets()\n",
    "response"
   ]
  },
  {
   "cell_type": "code",
   "execution_count": 6,
   "metadata": {},
   "outputs": [
    {
     "data": {
      "text/plain": [
       "[{'CreationDate': datetime.datetime(2018, 3, 5, 20, 11, 27, tzinfo=tzutc()),\n",
       "  'Name': 'garden.shelbysoft.com'},\n",
       " {'CreationDate': datetime.datetime(2017, 12, 18, 20, 41, 8, tzinfo=tzutc()),\n",
       "  'Name': 'logs.shelbysoft.com'},\n",
       " {'CreationDate': datetime.datetime(2017, 12, 18, 20, 41, 9, tzinfo=tzutc()),\n",
       "  'Name': 'shelbysoft.com'},\n",
       " {'CreationDate': datetime.datetime(2017, 12, 18, 20, 27, 50, tzinfo=tzutc()),\n",
       "  'Name': 'www.shelbysoft.com'}]"
      ]
     },
     "execution_count": 6,
     "metadata": {},
     "output_type": "execute_result"
    }
   ],
   "source": [
    "buckets = response['Buckets']\n",
    "buckets"
   ]
  },
  {
   "cell_type": "code",
   "execution_count": 7,
   "metadata": {},
   "outputs": [
    {
     "data": {
      "text/plain": [
       "['garden.shelbysoft.com',\n",
       " 'logs.shelbysoft.com',\n",
       " 'shelbysoft.com',\n",
       " 'www.shelbysoft.com']"
      ]
     },
     "execution_count": 7,
     "metadata": {},
     "output_type": "execute_result"
    }
   ],
   "source": [
    "[bucket['Name'] for bucket in buckets]"
   ]
  },
  {
   "cell_type": "markdown",
   "metadata": {},
   "source": [
    "## Create an example file"
   ]
  },
  {
   "cell_type": "code",
   "execution_count": 8,
   "metadata": {},
   "outputs": [],
   "source": [
    "file_name = \"example.txt\""
   ]
  },
  {
   "cell_type": "code",
   "execution_count": 9,
   "metadata": {},
   "outputs": [],
   "source": [
    "with open(file_name, \"w\") as f:\n",
    "    f.write(\"This is an example file.\")"
   ]
  },
  {
   "cell_type": "code",
   "execution_count": 10,
   "metadata": {},
   "outputs": [
    {
     "name": "stdout",
     "output_type": "stream",
     "text": [
      "This is an example file."
     ]
    }
   ],
   "source": [
    "!cat example.txt"
   ]
  },
  {
   "cell_type": "markdown",
   "metadata": {},
   "source": [
    "## Upload the example file"
   ]
  },
  {
   "cell_type": "code",
   "execution_count": 17,
   "metadata": {},
   "outputs": [],
   "source": [
    "remote_pathname = 'cancer_rate.csv'"
   ]
  },
  {
   "cell_type": "code",
   "execution_count": 18,
   "metadata": {},
   "outputs": [],
   "source": [
    "file_name = \"cancer_rate.csv\""
   ]
  },
  {
   "cell_type": "code",
   "execution_count": 19,
   "metadata": {},
   "outputs": [
    {
     "data": {
      "text/plain": [
       "'garden.shelbysoft.com'"
      ]
     },
     "execution_count": 19,
     "metadata": {},
     "output_type": "execute_result"
    }
   ],
   "source": [
    "bucket_name"
   ]
  },
  {
   "cell_type": "code",
   "execution_count": 20,
   "metadata": {},
   "outputs": [
    {
     "data": {
      "text/plain": [
       "'cancer_rate.csv'"
      ]
     },
     "execution_count": 20,
     "metadata": {},
     "output_type": "execute_result"
    }
   ],
   "source": [
    "file_name"
   ]
  },
  {
   "cell_type": "code",
   "execution_count": 21,
   "metadata": {},
   "outputs": [
    {
     "data": {
      "text/plain": [
       "'cancer_rate.csv'"
      ]
     },
     "execution_count": 21,
     "metadata": {},
     "output_type": "execute_result"
    }
   ],
   "source": [
    "remote_pathname"
   ]
  },
  {
   "cell_type": "code",
   "execution_count": 22,
   "metadata": {},
   "outputs": [],
   "source": [
    "#remote_pathname = 'examples/example.txt'\n",
    "\n",
    "s3.upload_file(\n",
    "    Bucket=bucket_name,\n",
    "    Filename=file_name,\n",
    "    Key=remote_pathname\n",
    "    )"
   ]
  },
  {
   "cell_type": "markdown",
   "metadata": {},
   "source": [
    "## Show items in the bucket"
   ]
  },
  {
   "cell_type": "code",
   "execution_count": 23,
   "metadata": {},
   "outputs": [
    {
     "data": {
      "text/plain": [
       "{'Contents': [{'ETag': '\"9b42c56c596eb08254f2ab4602409f93\"',\n",
       "   'Key': 'cancer.csv',\n",
       "   'LastModified': datetime.datetime(2018, 3, 5, 20, 18, 53, tzinfo=tzutc()),\n",
       "   'Owner': {'DisplayName': 'shoredata',\n",
       "    'ID': 'd46b9758b75942d4da6d8ddd01a44653af5a5ef9f4c7fc724bf6906d8c9522d6'},\n",
       "   'Size': 3686,\n",
       "   'StorageClass': 'STANDARD'},\n",
       "  {'ETag': '\"b4b320e3b20e1c18e52f0b2368734f91\"',\n",
       "   'Key': 'cancer_rate.csv',\n",
       "   'LastModified': datetime.datetime(2018, 3, 5, 21, 8, 42, tzinfo=tzutc()),\n",
       "   'Owner': {'DisplayName': 'shoredata',\n",
       "    'ID': 'd46b9758b75942d4da6d8ddd01a44653af5a5ef9f4c7fc724bf6906d8c9522d6'},\n",
       "   'Size': 7519,\n",
       "   'StorageClass': 'STANDARD'}],\n",
       " 'EncodingType': 'url',\n",
       " 'IsTruncated': False,\n",
       " 'Marker': '',\n",
       " 'MaxKeys': 1000,\n",
       " 'Name': 'garden.shelbysoft.com',\n",
       " 'Prefix': '',\n",
       " 'ResponseMetadata': {'HTTPHeaders': {'content-type': 'application/xml',\n",
       "   'date': 'Mon, 05 Mar 2018 21:08:48 GMT',\n",
       "   'server': 'AmazonS3',\n",
       "   'transfer-encoding': 'chunked',\n",
       "   'x-amz-bucket-region': 'us-west-2',\n",
       "   'x-amz-id-2': '1vzBfFk43YRcRGdIRH76MMibnqXjQ2S2yrRkKUKSqEkOKwCMjGRe/WY+xBnJcBjxa7NQ3knFCGc=',\n",
       "   'x-amz-request-id': '57B652DB06DA2383'},\n",
       "  'HTTPStatusCode': 200,\n",
       "  'HostId': '1vzBfFk43YRcRGdIRH76MMibnqXjQ2S2yrRkKUKSqEkOKwCMjGRe/WY+xBnJcBjxa7NQ3knFCGc=',\n",
       "  'RequestId': '57B652DB06DA2383',\n",
       "  'RetryAttempts': 0}}"
      ]
     },
     "execution_count": 23,
     "metadata": {},
     "output_type": "execute_result"
    }
   ],
   "source": [
    "response = s3.list_objects(\n",
    "    Bucket=bucket_name\n",
    ")\n",
    "\n",
    "response"
   ]
  },
  {
   "cell_type": "markdown",
   "metadata": {},
   "source": [
    "## Show items in the bucket (names only)"
   ]
  },
  {
   "cell_type": "code",
   "execution_count": 24,
   "metadata": {},
   "outputs": [
    {
     "data": {
      "text/plain": [
       "['cancer.csv', 'cancer_rate.csv']"
      ]
     },
     "execution_count": 24,
     "metadata": {},
     "output_type": "execute_result"
    }
   ],
   "source": [
    "[item['Key'] for item in response['Contents']]"
   ]
  },
  {
   "cell_type": "markdown",
   "metadata": {},
   "source": [
    "## Read the contents of the item"
   ]
  },
  {
   "cell_type": "code",
   "execution_count": 25,
   "metadata": {},
   "outputs": [],
   "source": [
    "response = s3.get_object(Bucket=bucket_name,\n",
    "                         Key=remote_pathname)"
   ]
  },
  {
   "cell_type": "code",
   "execution_count": 26,
   "metadata": {},
   "outputs": [
    {
     "data": {
      "text/plain": [
       "{'AcceptRanges': 'bytes',\n",
       " 'Body': <botocore.response.StreamingBody at 0x1071566d8>,\n",
       " 'ContentLength': 7519,\n",
       " 'ContentType': 'binary/octet-stream',\n",
       " 'ETag': '\"b4b320e3b20e1c18e52f0b2368734f91\"',\n",
       " 'LastModified': datetime.datetime(2018, 3, 5, 21, 8, 42, tzinfo=tzutc()),\n",
       " 'Metadata': {},\n",
       " 'ResponseMetadata': {'HTTPHeaders': {'accept-ranges': 'bytes',\n",
       "   'content-length': '7519',\n",
       "   'content-type': 'binary/octet-stream',\n",
       "   'date': 'Mon, 05 Mar 2018 21:09:11 GMT',\n",
       "   'etag': '\"b4b320e3b20e1c18e52f0b2368734f91\"',\n",
       "   'last-modified': 'Mon, 05 Mar 2018 21:08:42 GMT',\n",
       "   'server': 'AmazonS3',\n",
       "   'x-amz-id-2': 'pjuXJf6/UCK7xXapSi9+EFErprWy5EwZYXl3iZm8yIGM58dGjAecKceMpeV6VwO9KFdEfYTyLBM=',\n",
       "   'x-amz-request-id': '70C41B542231AE40'},\n",
       "  'HTTPStatusCode': 200,\n",
       "  'HostId': 'pjuXJf6/UCK7xXapSi9+EFErprWy5EwZYXl3iZm8yIGM58dGjAecKceMpeV6VwO9KFdEfYTyLBM=',\n",
       "  'RequestId': '70C41B542231AE40',\n",
       "  'RetryAttempts': 0}}"
      ]
     },
     "execution_count": 26,
     "metadata": {},
     "output_type": "execute_result"
    }
   ],
   "source": [
    "response"
   ]
  },
  {
   "cell_type": "code",
   "execution_count": 27,
   "metadata": {},
   "outputs": [
    {
     "data": {
      "text/plain": [
       "b',cancer_rate\\n0,0.0022471910112359553\\n1,0.0\\n2,0.004431314623338257\\n3,0.005873715124816446\\n4,0.004021447721179625\\n5,0.004602991944764097\\n6,0.0010526315789473684\\n7,0.005122950819672131\\n8,0.004562043795620438\\n9,0.004553734061930784\\n10,0.004488330341113106\\n11,0.006222222222222222\\n12,0.0040453074433656954\\n13,0.004669260700389105\\n14,0.0023237800154918666\\n15,0.002276176024279211\\n16,0.0015117157974300832\\n17,0.006028636021100226\\n18,0.006258692628650904\\n19,0.004732927653820149\\n20,0.0026041666666666665\\n21,0.0037546933667083854\\n22,0.003669724770642202\\n23,0.0065986802639472104\\n24,0.0023584905660377358\\n25,0.00390625\\n26,0.0038997214484679664\\n27,0.0022123893805309734\\n28,0.003264417845484222\\n29,0.008705114254624592\\n30,0.0016242555495397943\\n31,0.004138644593895499\\n32,0.00408371618172537\\n33,0.0020100502512562816\\n34,0.0044932601098352475\\n35,0.004830917874396135\\n36,0.003347680535628886\\n37,0.003811338732729871\\n38,0.002376425855513308\\n39,0.005123428039124359\\n40,0.0018570102135561746\\n41,0.005547850208044383\\n42,0.0050644567219152855\\n43,0.004139834406623735\\n44,0.005955107650022904\\n45,0.007751937984496124\\n46,0.004977375565610859\\n47,0.0045207956600361665\\n48,0.0017889087656529517\\n49,0.0017817371937639199\\n50,0.0035382574082264487\\n51,0.002589555459646094\\n52,0.0034290612944706386\\n53,0.006686167989970748\\n54,0.004159733777038269\\n55,0.0016535758577924762\\n56,0.004467912266450041\\n57,0.004038772213247173\\n58,0.0044408558740411785\\n59,0.003624647603705195\\n60,0.004380724810832338\\n61,0.005403319181783096\\n62,0.0022865853658536584\\n63,0.002973977695167286\\n64,0.004393994873672647\\n65,0.005484460694698354\\n66,0.003289473684210526\\n67,0.004732435384055333\\n68,0.006470165348670022\\n69,0.0053898670499461015\\n70,0.004296455424274973\\n71,0.0038049117952265654\\n72,0.00414651002073255\\n73,0.0041293874741913286\\n74,0.004779788323659952\\n75,0.0040885860306643955\\n76,0.001012829169480081\\n77,0.0016371971185330713\\n78,0.002249357326478149\\n79,0.0028864656831302116\\n80,0.003453689167974882\\n81,0.004351880634131178\\n82,0.005562422744128554\\n83,0.0033434650455927053\\n84,0.0033192516596258297\\n85,0.0012062726176115801\\n86,0.0038224051749485444\\n87,0.002933411557641537\\n88,0.002918855808523059\\n89,0.0025936599423631124\\n90,0.0031536697247706424\\n91,0.003417829678154372\\n92,0.0011270780501549732\\n93,0.004480537664519743\\n94,0.005589714924538848\\n95,0.0013812154696132596\\n96,0.004105090311986864\\n97,0.004076086956521739\\n98,0.00325821341297855\\n99,0.001898047722342733\\n100,0.0018888289260658392\\n101,0.0032145727297080095\\n102,0.005526315789473684\\n103,0.004208311415044713\\n104,0.0033924843423799585\\n105,0.0041418586590732595\\n106,0.0020560267283474686\\n107,0.0029940119760479044\\n108,0.004886391399951136\\n109,0.005061460592913955\\n110,0.0036040365209034117\\n111,0.0030783802983660904\\n112,0.0030718336483931945\\n113,0.002319109461966605\\n114,0.005082005082005082\\n115,0.0032325098129762178\\n116,0.0036371902705160265\\n117,0.0029082774049217002\\n118,0.00519705500216544\\n119,0.005782822874277147\\n120,0.0034180730613116855\\n121,0.005910914080641756\\n122,0.00229933110367893\\n123,0.0024849865396562435\\n124,0.002882437718756434\\n125,0.005286701911346075\\n126,0.005435876786792832\\n127,0.0033723467565959135\\n128,0.0039596119580281135\\n129,0.0023636005515067955\\n130,0.003916193459956922\\n131,0.0023492560689115116\\n132,0.00468384074941452\\n133,0.005236617532971295\\n134,0.0048383975227404685\\n135,0.0036461331798119364\\n136,0.004003049942813572\\n137,0.0013930001741250218\\n138,0.0025983024424042957\\n139,0.0037086985839514496\\n140,0.0035099448437238842\\n141,0.006177992987143096\\n142,0.00383461153717906\\n143,0.0029895366218236174\\n144,0.004142502071251036\\n145,0.004280540006585446\\n146,0.0027714378871861755\\n147,0.00437246963562753\\n148,0.002090032154340836\\n149,0.002064803049555273\\n150,0.0023273855702094647\\n151,0.004981884057971014\\n152,0.00350825902645812\\n153,0.0033488642981945255\\n154,0.002607561929595828\\n155,0.0034762456546929316\\n156,0.003036437246963563\\n157,0.004614940871070089\\n158,0.003296073373459444\\n159,0.004562303963501569\\n160,0.002277580071174377\\n161,0.0041245910965723226\\n162,0.0046380885453267745\\n163,0.0027563395810363835\\n164,0.0026070252469813393\\n165,0.003696604600219058\\n166,0.0013574046423238768\\n167,0.004609544468546637\\n168,0.004860267314702308\\n169,0.003509719222462203\\n170,0.004398240703718513\\n171,0.0031583103039873666\\n172,0.004778509621593698\\n173,0.004381443298969072\\n174,0.0046776232616940585\\n175,0.002526209422761147\\n176,0.0035189141636295085\\n177,0.00375751503006012\\n178,0.003373313343328336\\n179,0.005482456140350877\\n180,0.004727845799490847\\n181,0.003498612619133792\\n182,0.002646457355948514\\n183,0.0032231108988898176\\n184,0.002262982372558361\\n185,0.0035427491733585263\\n186,0.0040032968326857415\\n187,0.004102684327745868\\n188,0.0023937079676279492\\n189,0.0020302278366794496\\n190,0.004509954900450995\\n191,0.003689636462289745\\n192,0.0055284552845528455\\n193,0.0032456994482310936\\n194,0.003391626921038686\\n195,0.004023292747485442\\n196,0.0019011406844106464\\n197,0.004391927219491791\\n198,0.006246746486205101\\n199,0.0019306980997866072\\n200,0.002901741044626776\\n201,0.0016944084521080434\\n202,0.0028858592894815405\\n203,0.0040417981072555205\\n204,0.0030088323789187617\\n205,0.003360215053763441\\n206,0.0025810151993117293\\n207,0.0034676663542642923\\n208,0.0016599040944300996\\n209,0.003770114942528736\\n210,0.003581267217630854\\n211,0.0036920306168392618\\n212,0.005248666322491826\\n213,0.003821232762917428\\n214,0.003861003861003861\\n215,0.002955422379115015\\n216,0.0034105329949238577\\n217,0.0035225048923679062\\n218,0.003561749903213318\\n219,0.0034559557637662236\\n220,0.003728504032871709\\n221,0.004164773587763138\\n222,0.004773625717908556\\n223,0.004689675386531839\\n224,0.004758471521268926\\n225,0.004074630066480806\\n226,0.0037617999858045284\\n227,0.003592308234133972\\n228,0.0024623803009575923\\n229,0.0018898488120950325\\n230,0.003945960406634564\\n231,0.002593257530420906\\n232,0.0048508206525350525\\n233,0.0027011002042295275\\n234,0.0031570639305445935\\n235,0.0022894622857496444\\n236,0.004433770552373915\\n237,0.004383027941803129\\n238,0.0029158060988944234\\n239,0.003692014529863634\\n240,0.003013293943870015\\n241,0.004169847888647442\\n242,0.003488169292482995\\n243,0.003994065959146411\\n244,0.003339748669761123\\n245,0.005143567714221117\\n246,0.002930898433096607\\n247,0.0035169353966020994\\n248,0.0041108323100742085\\n249,0.004459782320148659\\n250,0.002646051675832728\\n251,0.003330305782621859\\n252,0.002662513814930172\\n253,0.002890605532020932\\n254,0.003723932472691162\\n255,0.004341819617130452\\n256,0.004041092555625883\\n257,0.0023256940743253064\\n258,0.003290571796461443\\n259,0.0019201049032922775\\n260,0.0033552419910833297\\n261,0.0034632414186138265\\n262,0.002710260271026027\\n263,0.003869636254192106\\n264,0.0037866315442871253\\n265,0.0024639645189109276\\n266,0.0025514336627247692\\n267,0.0025305269922879176\\n268,0.002967359050445104\\n269,0.0027553631174965557\\n270,0.00349990278047832\\n271,0.004229377024195085\\n272,0.003900333232353832\\n273,0.004383500056198719\\n274,0.0042106765629460466\\n275,0.0014149274849663955\\n276,0.0029146328616076133\\n277,0.0030765023586518084\\n278,0.0032968526952620487\\n279,0.003053941908713693\\n280,0.00340559303163272\\n281,0.0028145064352516932\\n282,0.004044201412622466\\n283,0.0029267476864756384\\n284,0.003993720219241469\\n285,0.004100146067703662\\n286,0.0031161056040828346\\n287,0.003930506779542759\\n288,0.002181574089612351\\n289,0.0036436917314660263\\n290,0.0028430345653149783\\n291,0.0028834757381167187\\n292,0.0028004158701411945\\n293,0.0050198633666328684\\n294,0.0039424340523734735\\n295,0.003766839047436634\\n296,0.003972604916495845\\n297,0.0042063141974919655\\n298,0.003659487671725958\\n299,0.0033511249239916224\\n300,0.004069820023514516\\n'"
      ]
     },
     "execution_count": 27,
     "metadata": {},
     "output_type": "execute_result"
    }
   ],
   "source": [
    "response['Body'].read()"
   ]
  },
  {
   "cell_type": "markdown",
   "metadata": {},
   "source": [
    "## Download the item"
   ]
  },
  {
   "cell_type": "code",
   "execution_count": 28,
   "metadata": {},
   "outputs": [],
   "source": [
    "s3.download_file(Bucket=bucket_name,\n",
    "                 Key=remote_pathname,\n",
    "                 Filename=\"downloaded-\" + file_name)"
   ]
  },
  {
   "cell_type": "code",
   "execution_count": 29,
   "metadata": {},
   "outputs": [
    {
     "name": "stdout",
     "output_type": "stream",
     "text": [
      "AWS-S3-Example.ipynb       downloaded-cancer_rate.csv\r\n",
      "README.md                  example.txt\r\n",
      "boto3_s3_example.ipynb     \u001b[1m\u001b[36mimg\u001b[m\u001b[m\r\n",
      "cancer_rate.csv            individual.md\r\n",
      "cancer_rate.png            \u001b[1m\u001b[36msrc\u001b[m\u001b[m\r\n",
      "\u001b[1m\u001b[36mdata\u001b[m\u001b[m\r\n"
     ]
    }
   ],
   "source": [
    "!ls"
   ]
  },
  {
   "cell_type": "code",
   "execution_count": null,
   "metadata": {},
   "outputs": [],
   "source": []
  }
 ],
 "metadata": {
  "anaconda-cloud": {},
  "kernelspec": {
   "display_name": "Python 3",
   "language": "python",
   "name": "python3"
  },
  "language_info": {
   "codemirror_mode": {
    "name": "ipython",
    "version": 3
   },
   "file_extension": ".py",
   "mimetype": "text/x-python",
   "name": "python",
   "nbconvert_exporter": "python",
   "pygments_lexer": "ipython3",
   "version": "3.6.4"
  }
 },
 "nbformat": 4,
 "nbformat_minor": 1
}
