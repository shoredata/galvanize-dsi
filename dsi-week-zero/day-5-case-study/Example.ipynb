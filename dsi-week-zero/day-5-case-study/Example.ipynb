{
 "cells": [
  {
   "cell_type": "code",
   "execution_count": null,
   "metadata": {
    "ExecuteTime": {
     "end_time": "2017-04-21T09:23:04.123064",
     "start_time": "2017-04-21T09:23:04.104342"
    },
    "collapsed": true
   },
   "outputs": [],
   "source": [
    "import csv\n",
    "from collections import defaultdict"
   ]
  },
  {
   "cell_type": "code",
   "execution_count": null,
   "metadata": {
    "ExecuteTime": {
     "end_time": "2017-04-21T09:25:18.785622",
     "start_time": "2017-04-21T09:25:18.772261"
    },
    "collapsed": true
   },
   "outputs": [],
   "source": [
    "f = open('data/EXTR_RPSale.csv', 'r')"
   ]
  },
  {
   "cell_type": "code",
   "execution_count": null,
   "metadata": {
    "ExecuteTime": {
     "end_time": "2017-04-21T09:25:20.093559",
     "start_time": "2017-04-21T09:25:20.081119"
    },
    "collapsed": true
   },
   "outputs": [],
   "source": [
    "reader = csv.reader(f)"
   ]
  },
  {
   "cell_type": "code",
   "execution_count": null,
   "metadata": {
    "ExecuteTime": {
     "end_time": "2017-04-21T09:25:20.266620",
     "start_time": "2017-04-21T09:25:20.253645"
    },
    "collapsed": false
   },
   "outputs": [],
   "source": [
    "next(reader)"
   ]
  },
  {
   "cell_type": "code",
   "execution_count": null,
   "metadata": {
    "ExecuteTime": {
     "end_time": "2017-04-21T09:25:21.007656",
     "start_time": "2017-04-21T09:25:20.994394"
    },
    "collapsed": false
   },
   "outputs": [],
   "source": [
    "next(reader)"
   ]
  },
  {
   "cell_type": "code",
   "execution_count": null,
   "metadata": {
    "ExecuteTime": {
     "end_time": "2017-04-21T09:25:34.033714",
     "start_time": "2017-04-21T09:25:22.140837"
    },
    "collapsed": false
   },
   "outputs": [],
   "source": [
    "annual_sales = defaultdict(float)\n",
    "for row in reader:\n",
    "    year = int(row[3][-4:])  # Year of DocumentDate\n",
    "    annual_sales[year] += float(row[4])  # Add SalePrice"
   ]
  },
  {
   "cell_type": "code",
   "execution_count": null,
   "metadata": {
    "ExecuteTime": {
     "end_time": "2017-04-21T09:25:36.050624",
     "start_time": "2017-04-21T09:25:36.037181"
    },
    "collapsed": true
   },
   "outputs": [],
   "source": [
    "f.close()  # Close the file handle that we opened above"
   ]
  },
  {
   "cell_type": "code",
   "execution_count": null,
   "metadata": {
    "ExecuteTime": {
     "end_time": "2017-04-21T09:25:36.252626",
     "start_time": "2017-04-21T09:25:36.237043"
    },
    "collapsed": false
   },
   "outputs": [],
   "source": [
    "annual_sales"
   ]
  },
  {
   "cell_type": "code",
   "execution_count": null,
   "metadata": {
    "collapsed": true
   },
   "outputs": [],
   "source": []
  }
 ],
 "metadata": {
  "kernelspec": {
   "display_name": "py36",
   "language": "python",
   "name": "py36"
  },
  "language_info": {
   "codemirror_mode": {
    "name": "ipython",
    "version": 3
   },
   "file_extension": ".py",
   "mimetype": "text/x-python",
   "name": "python",
   "nbconvert_exporter": "python",
   "pygments_lexer": "ipython3",
   "version": "3.6.0"
  }
 },
 "nbformat": 4,
 "nbformat_minor": 2
}
