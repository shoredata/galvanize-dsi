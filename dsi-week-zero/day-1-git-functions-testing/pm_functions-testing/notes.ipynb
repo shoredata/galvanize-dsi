{
 "cells": [
  {
   "cell_type": "markdown",
   "metadata": {},
   "source": [
    "# Variables and Operators\n",
    "\n",
    "## Numbers\n",
    "\n",
    "The two primary numeric types in Python are integers of type `int`, and floating-point numbers of type `float`.\n",
    "\n",
    "### Integers\n",
    "\n",
    "In Python, a literal number entered without a decimal point is an *integer*, also known as an `int`. \n",
    "\n",
    "### Floating-Point Numbers\n",
    "\n",
    "## Strings\n",
    "\n",
    "### String Methods\n"
   ]
  },
  {
   "cell_type": "markdown",
   "metadata": {},
   "source": [
    "# Reserved Words\n",
    "\n",
    "In any programming language, the names of variable types are *reserved keywords* that should not be used as variable names.\n",
    "\n",
    "Some examples of reserved words in Python:\n",
    "\n",
    " * `int`\n",
    " * `float`\n",
    " * `str`\n",
    " * `bool`\n",
    " \n",
    "If a word is used for something that's built into Python, *never* use it as a variable name."
   ]
  },
  {
   "cell_type": "markdown",
   "metadata": {},
   "source": [
    "# Functions and Testing\n",
    "\n",
    "Functions are the essential building blocks of code. Like mathematical functions, they describe *repeatable* operations that have inputs and outputs."
   ]
  },
  {
   "cell_type": "markdown",
   "metadata": {},
   "source": [
    "## Example\n",
    "\n",
    "Consider the following mathematical function:\n",
    "\n",
    "$ f(x) = x + 1 $\n",
    "\n",
    "This function defines a *repeatable* operation that we can perform by assigning a value to `x`.\n",
    "\n",
    "Examples:\n",
    " * $ f(6) = 7 $\n",
    " * $ f(41) = 42 $\n",
    " * $ f(-1) = 0 $\n",
    "\n",
    "### Function Stubs\n",
    "\n",
    "Suppose that we want to implement this function in code. We can *define* a function in Python using the `def` keyword:\n",
    "\n",
    "```python\n",
    "def f(x):\n",
    "    pass\n",
    "```\n",
    "\n",
    "The `pass` keyword is a placeholder for future work. It means *do nothing*, or \"this space intentionally left blank.\"\n",
    "\n",
    "Because our function is not yet filled in, we call it a *function stub*.\n",
    "\n",
    "### Assertions as Tests\n",
    "\n",
    "Because we have some examples of how we expect our function to behave, we can write *assertions*.\n",
    "\n",
    "We'll save these assertions in a file called `test_example.py`:\n",
    "\n",
    "```python\n",
    "def test_f():\n",
    "    assert f(6) == 7\n",
    "    assert f(41) == 42\n",
    "    assert f(-1) == 0\n",
    "```\n",
    "\n",
    "The `assert` keyword tells Python that the following expression *must* evaluate to True.\n",
    "\n",
    "Note the use of `==` instead of `=` to compare the value of `f(x)` to the expected output. This is important because `=` is the *assignment* operator."
   ]
  },
  {
   "cell_type": "code",
   "execution_count": null,
   "metadata": {
    "collapsed": true
   },
   "outputs": [],
   "source": []
  },
  {
   "cell_type": "markdown",
   "metadata": {
    "ExecuteTime": {
     "end_time": "2017-10-27T22:12:45.692700",
     "start_time": "2017-10-27T22:12:45.635595"
    }
   },
   "source": [
    "First, let's use `=`, the *assignment* operator, to set the value of `x`."
   ]
  },
  {
   "cell_type": "code",
   "execution_count": 21,
   "metadata": {
    "ExecuteTime": {
     "end_time": "2017-10-27T22:18:33.314041",
     "start_time": "2017-10-27T22:18:33.301799"
    },
    "collapsed": false
   },
   "outputs": [],
   "source": [
    "x = 1"
   ]
  },
  {
   "cell_type": "markdown",
   "metadata": {},
   "source": [
    "Note that we used `=` to *change* the value of `x`.\n",
    "\n",
    "What if we just want to *compare* the value of `x` to anothe value? We can use the `==` operator."
   ]
  },
  {
   "cell_type": "code",
   "execution_count": 22,
   "metadata": {
    "ExecuteTime": {
     "end_time": "2017-10-27T22:18:33.712360",
     "start_time": "2017-10-27T22:18:33.699779"
    },
    "collapsed": false
   },
   "outputs": [
    {
     "data": {
      "text/plain": [
       "False"
      ]
     },
     "execution_count": 22,
     "metadata": {},
     "output_type": "execute_result"
    }
   ],
   "source": [
    "x == 2"
   ]
  },
  {
   "cell_type": "code",
   "execution_count": 23,
   "metadata": {
    "ExecuteTime": {
     "end_time": "2017-10-27T22:18:34.080528",
     "start_time": "2017-10-27T22:18:34.068278"
    },
    "collapsed": false
   },
   "outputs": [
    {
     "data": {
      "text/plain": [
       "True"
      ]
     },
     "execution_count": 23,
     "metadata": {},
     "output_type": "execute_result"
    }
   ],
   "source": [
    "x == 1"
   ]
  },
  {
   "cell_type": "markdown",
   "metadata": {
    "ExecuteTime": {
     "end_time": "2017-10-27T15:26:47.001845",
     "start_time": "2017-10-27T15:26:46.989101"
    }
   },
   "source": [
    "So, we use `=` to *assign* a value and `==` to *compare* values. The difference is important! Python has many other operators that we can use to compare values without modifying them.\n",
    "\n",
    "### Comparison Operators\n",
    "\n",
    "\n",
    "| Example | Description |\n",
    "| -------- | ----------- |\n",
    "| `x == y` | Return `True` if the value on the left side is *equal to* y. |\n",
    "| `x is y` | Return `True` if x *refers to exactly the same memory location as* y. |\n",
    "| `x != y` | Return `True` if x is *not equal to* y. |\n",
    "| `x < y` | Return `True` if the value of x is *less than* y. |\n",
    "| `x > y` | Return `True` if x is *greater than* y. |\n",
    "| `x <= y` | Return `True` if x is *less than or equal to* y. |\n",
    "| `x >= y` | Return `True` if x is *greater than or equal to* the value on the right side. |\n",
    "| `x in y` | Returns `True` if the value of x is *found within* the sequence y. |\n",
    "\n",
    "The `in` operator is not quite like the others. Here's a quick example:"
   ]
  },
  {
   "cell_type": "code",
   "execution_count": 24,
   "metadata": {
    "ExecuteTime": {
     "end_time": "2017-10-27T22:21:33.975980",
     "start_time": "2017-10-27T22:21:33.963781"
    },
    "collapsed": true
   },
   "outputs": [],
   "source": [
    "x = 1"
   ]
  },
  {
   "cell_type": "code",
   "execution_count": 25,
   "metadata": {
    "ExecuteTime": {
     "end_time": "2017-10-27T22:21:40.865080",
     "start_time": "2017-10-27T22:21:40.851707"
    },
    "collapsed": false
   },
   "outputs": [
    {
     "data": {
      "text/plain": [
       "True"
      ]
     },
     "execution_count": 25,
     "metadata": {},
     "output_type": "execute_result"
    }
   ],
   "source": [
    "x in [1, 2, 3]"
   ]
  },
  {
   "cell_type": "code",
   "execution_count": 27,
   "metadata": {
    "ExecuteTime": {
     "end_time": "2017-10-27T22:21:55.545978",
     "start_time": "2017-10-27T22:21:55.532358"
    },
    "collapsed": false
   },
   "outputs": [
    {
     "data": {
      "text/plain": [
       "False"
      ]
     },
     "execution_count": 27,
     "metadata": {},
     "output_type": "execute_result"
    }
   ],
   "source": [
    "x in [4, 5, 6]"
   ]
  },
  {
   "cell_type": "code",
   "execution_count": 28,
   "metadata": {
    "ExecuteTime": {
     "end_time": "2017-10-27T22:22:13.455552",
     "start_time": "2017-10-27T22:22:13.442294"
    },
    "collapsed": false
   },
   "outputs": [
    {
     "data": {
      "text/plain": [
       "False"
      ]
     },
     "execution_count": 28,
     "metadata": {},
     "output_type": "execute_result"
    }
   ],
   "source": [
    "x in ['x', 'y', 'z']"
   ]
  },
  {
   "cell_type": "code",
   "execution_count": 29,
   "metadata": {
    "ExecuteTime": {
     "end_time": "2017-10-27T22:22:22.135335",
     "start_time": "2017-10-27T22:22:22.122092"
    },
    "collapsed": false
   },
   "outputs": [
    {
     "data": {
      "text/plain": [
       "True"
      ]
     },
     "execution_count": 29,
     "metadata": {},
     "output_type": "execute_result"
    }
   ],
   "source": [
    "'x' in ['x', 'y', 'z']"
   ]
  },
  {
   "cell_type": "code",
   "execution_count": null,
   "metadata": {
    "collapsed": true
   },
   "outputs": [],
   "source": []
  }
 ],
 "metadata": {
  "kernelspec": {
   "display_name": "py36",
   "language": "python",
   "name": "py36"
  },
  "language_info": {
   "codemirror_mode": {
    "name": "ipython",
    "version": 3
   },
   "file_extension": ".py",
   "mimetype": "text/x-python",
   "name": "python",
   "nbconvert_exporter": "python",
   "pygments_lexer": "ipython3",
   "version": "3.6.0"
  }
 },
 "nbformat": 4,
 "nbformat_minor": 0
}
